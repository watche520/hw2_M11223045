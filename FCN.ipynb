{
  "cells": [
    {
      "cell_type": "markdown",
      "source": [
        "Final"
      ],
      "metadata": {
        "id": "BFHbbaaHzfc0"
      }
    },
    {
      "cell_type": "code",
      "execution_count": 2,
      "metadata": {
        "colab": {
          "base_uri": "https://localhost:8080/"
        },
        "id": "juE71FQT57EQ",
        "outputId": "d97f8507-759a-49e4-e051-23658fe777be"
      },
      "outputs": [
        {
          "output_type": "stream",
          "name": "stdout",
          "text": [
            "Drive already mounted at /content/drive; to attempt to forcibly remount, call drive.mount(\"/content/drive\", force_remount=True).\n"
          ]
        }
      ],
      "source": [
        "from google.colab import drive\n",
        "drive.mount('/content/drive')"
      ]
    },
    {
      "cell_type": "code",
      "source": [
        "###4個 Fold\n",
        "###Fold\n",
        "###Fold\n",
        "###Fold\n",
        "###Fold\n",
        "import os\n",
        "import cv2\n",
        "import shutil\n",
        "\n",
        "# 定義裁切函數\n",
        "def crop_and_resize(img, mask, size=256):\n",
        "    # crop to square\n",
        "    h, w = img.shape\n",
        "    print(f'h: {h}, w: {w}')\n",
        "    if h > w:\n",
        "        img = img[:w, :]\n",
        "        mask = mask[:w, :]\n",
        "    else:\n",
        "        w_center = w // 2\n",
        "        img = img[:, w_center - h // 2: (w_center - h // 2)+h]\n",
        "        mask = mask[:, w_center - h // 2: (w_center - h // 2)+h]\n",
        "\n",
        "    # resize to 256x256\n",
        "    img = cv2.resize(img, (size, size))\n",
        "    mask = cv2.resize(mask, (size, size))\n",
        "\n",
        "    return img, mask\n",
        "\n",
        "# 定義原始圖像和遮罩的資料夾路徑\n",
        "image_folder = '/content/drive/MyDrive/ETT_v3/Fold5/train'\n",
        "mask_folder = '/content/drive/MyDrive/ETT_v3/Fold5/trainannot'\n",
        "\n",
        "# 定義新的資料夾路徑\n",
        "output_image_folder = '/content/drive/MyDrive/ETT_v3/Fold5/train_cropped'\n",
        "output_mask_folder = '/content/drive/MyDrive/ETT_v3/Fold5/trainannot_cropped'\n",
        "\n",
        "# 創建新的資料夾\n",
        "os.makedirs(output_image_folder, exist_ok=True)\n",
        "os.makedirs(output_mask_folder, exist_ok=True)\n",
        "\n",
        "# 獲取圖像和遮罩文件列表\n",
        "image_files = sorted([f for f in os.listdir(image_folder) if f.endswith('.jpg')])  # 只取擴展名為.jpg的文件\n",
        "mask_files = sorted([f for f in os.listdir(mask_folder) if f.endswith('.png')])  # 只取擴展名為.png的文件\n",
        "\n",
        "# 確保文件名匹配\n",
        "assert len(image_files) == len(mask_files), \"圖像和遮罩文件數量不匹配\"\n",
        "\n",
        "# 裁切並保存圖像和遮罩\n",
        "for image_file, mask_file in zip(image_files, mask_files):\n",
        "    # 讀取圖像和遮罩\n",
        "    image_path = os.path.join(image_folder, image_file)\n",
        "    mask_path = os.path.join(mask_folder, mask_file)\n",
        "    image = cv2.imread(image_path, cv2.IMREAD_GRAYSCALE)\n",
        "    mask = cv2.imread(mask_path, cv2.IMREAD_GRAYSCALE)\n",
        "\n",
        "    # 裁切圖像和遮罩\n",
        "    cropped_image, cropped_mask = crop_and_resize(image, mask)\n",
        "\n",
        "    # 保存裁切後的圖像和遮罩\n",
        "    output_image_path = os.path.join(output_image_folder, image_file)\n",
        "    output_mask_path = os.path.join(output_mask_folder, mask_file)\n",
        "    cv2.imwrite(output_image_path, cropped_image)\n",
        "    cv2.imwrite(output_mask_path, cropped_mask)\n",
        "\n",
        "print(\"裁切並保存完成！\")\n"
      ],
      "metadata": {
        "colab": {
          "base_uri": "https://localhost:8080/"
        },
        "id": "5uP1HGNx0Xon",
        "outputId": "beccbe0f-9dcf-47a8-86e9-6adc45d5ea61"
      },
      "execution_count": 117,
      "outputs": [
        {
          "output_type": "stream",
          "name": "stdout",
          "text": [
            "h: 2932, w: 2885\n",
            "h: 2517, w: 3028\n",
            "h: 3050, w: 2539\n",
            "h: 3028, w: 2474\n",
            "h: 3028, w: 2395\n",
            "h: 2726, w: 2517\n",
            "h: 3028, w: 2517\n",
            "h: 3028, w: 2517\n",
            "h: 3028, w: 2517\n",
            "h: 3028, w: 2517\n",
            "h: 2517, w: 2913\n",
            "h: 2949, w: 2517\n",
            "h: 3028, w: 2366\n",
            "h: 3028, w: 2460\n",
            "h: 2892, w: 2503\n",
            "h: 3028, w: 2294\n",
            "h: 3028, w: 2366\n",
            "h: 2856, w: 2402\n",
            "h: 3028, w: 2460\n",
            "h: 2892, w: 2503\n",
            "h: 3028, w: 2366\n",
            "h: 3028, w: 2388\n",
            "h: 3028, w: 2517\n",
            "h: 3028, w: 2517\n",
            "h: 3028, w: 2517\n",
            "h: 2749, w: 2339\n",
            "h: 2991, w: 2434\n",
            "h: 3056, w: 2293\n",
            "h: 3056, w: 2492\n",
            "h: 3028, w: 2446\n",
            "h: 3028, w: 2323\n",
            "h: 3028, w: 2402\n",
            "h: 3028, w: 2517\n",
            "h: 2848, w: 2517\n",
            "h: 3028, w: 2517\n",
            "h: 3123, w: 2885\n",
            "h: 3070, w: 2710\n",
            "h: 3408, w: 3115\n",
            "h: 3280, w: 2932\n",
            "h: 3189, w: 2492\n",
            "h: 3028, w: 2517\n",
            "h: 3028, w: 2517\n",
            "h: 2935, w: 2424\n",
            "h: 3028, w: 2517\n",
            "h: 3028, w: 2517\n",
            "h: 3028, w: 2460\n",
            "h: 3028, w: 2517\n",
            "h: 3028, w: 2517\n",
            "h: 3000, w: 2517\n",
            "h: 3028, w: 2517\n",
            "h: 3028, w: 2517\n",
            "h: 3028, w: 2517\n",
            "h: 3028, w: 2503\n",
            "h: 2834, w: 2517\n",
            "h: 3028, w: 2517\n",
            "h: 3028, w: 2517\n",
            "h: 3028, w: 2517\n",
            "h: 3408, w: 3138\n",
            "h: 2998, w: 2974\n",
            "h: 3028, w: 2517\n",
            "h: 3028, w: 2474\n",
            "h: 3320, w: 3130\n",
            "h: 3028, w: 2517\n",
            "h: 3028, w: 2460\n",
            "h: 3028, w: 2517\n",
            "h: 3028, w: 2366\n",
            "h: 3028, w: 2517\n",
            "h: 3028, w: 2517\n",
            "h: 3028, w: 2517\n",
            "h: 3028, w: 2517\n",
            "h: 3028, w: 2517\n",
            "h: 3320, w: 3088\n",
            "h: 2939, w: 2918\n",
            "h: 3028, w: 2417\n",
            "h: 2956, w: 2517\n",
            "h: 2935, w: 2517\n",
            "h: 3028, w: 2517\n",
            "h: 3028, w: 2517\n",
            "h: 3028, w: 2517\n",
            "h: 3028, w: 2309\n",
            "h: 2863, w: 2453\n",
            "h: 3028, w: 2517\n",
            "h: 3028, w: 2395\n",
            "h: 3028, w: 2417\n",
            "h: 2741, w: 2489\n",
            "h: 2870, w: 2517\n",
            "h: 2517, w: 2611\n",
            "h: 3028, w: 2517\n",
            "h: 3028, w: 2517\n",
            "h: 3028, w: 2517\n",
            "h: 3028, w: 2395\n",
            "h: 3028, w: 2517\n",
            "h: 3021, w: 2381\n",
            "h: 3056, w: 3094\n",
            "h: 2179, w: 3028\n",
            "h: 3255, w: 2811\n",
            "h: 3116, w: 3029\n",
            "h: 3028, w: 2517\n",
            "h: 3028, w: 2517\n",
            "h: 3028, w: 2517\n",
            "h: 3028, w: 2438\n",
            "h: 2546, w: 2258\n",
            "h: 3028, w: 2517\n",
            "h: 3028, w: 2359\n",
            "h: 2776, w: 2517\n",
            "h: 2517, w: 3028\n",
            "h: 3028, w: 2517\n",
            "h: 3028, w: 2517\n",
            "h: 3028, w: 2517\n",
            "h: 3028, w: 2460\n",
            "h: 2517, w: 3028\n",
            "h: 3028, w: 2438\n",
            "h: 2517, w: 2791\n",
            "h: 3028, w: 2517\n",
            "h: 2870, w: 2517\n",
            "h: 2920, w: 2402\n",
            "h: 3028, w: 2395\n",
            "h: 3355, w: 3320\n",
            "h: 3408, w: 3320\n",
            "h: 3408, w: 2697\n",
            "h: 3134, w: 2707\n",
            "h: 2791, w: 2323\n",
            "h: 3028, w: 2517\n",
            "h: 3028, w: 2517\n",
            "h: 3028, w: 2517\n",
            "h: 3028, w: 2517\n",
            "h: 3028, w: 2517\n",
            "h: 3028, w: 2410\n",
            "h: 3028, w: 2517\n",
            "h: 3028, w: 2496\n",
            "h: 3028, w: 2517\n",
            "h: 3028, w: 2517\n",
            "h: 2971, w: 2517\n",
            "h: 3028, w: 2517\n",
            "h: 3028, w: 2517\n",
            "h: 3028, w: 2489\n",
            "h: 3028, w: 2517\n",
            "h: 2906, w: 2323\n",
            "h: 3028, w: 2359\n",
            "h: 2956, w: 2517\n",
            "h: 3028, w: 2338\n",
            "h: 2650, w: 2790\n",
            "h: 2991, w: 2992\n",
            "h: 2048, w: 2500\n",
            "h: 2623, w: 2524\n",
            "h: 2500, w: 2048\n",
            "h: 2048, w: 2500\n",
            "h: 2048, w: 2500\n",
            "h: 2048, w: 2500\n",
            "h: 2048, w: 2500\n",
            "h: 2544, w: 3056\n",
            "h: 2544, w: 3056\n",
            "h: 2544, w: 3056\n",
            "h: 2544, w: 3056\n",
            "h: 2048, w: 2500\n",
            "h: 2048, w: 2500\n",
            "h: 2991, w: 2992\n",
            "h: 2048, w: 2500\n",
            "h: 2991, w: 2992\n",
            "h: 2048, w: 2500\n",
            "h: 2544, w: 3056\n",
            "h: 2544, w: 3056\n",
            "h: 2991, w: 2992\n",
            "h: 2500, w: 2048\n",
            "h: 2991, w: 2702\n",
            "h: 2048, w: 2500\n",
            "h: 2048, w: 2500\n",
            "h: 2991, w: 2992\n",
            "h: 2544, w: 3056\n",
            "h: 2544, w: 3056\n",
            "h: 2896, w: 2452\n",
            "h: 2048, w: 2500\n",
            "h: 2991, w: 2594\n",
            "h: 2048, w: 2500\n",
            "h: 2991, w: 2992\n",
            "h: 2991, w: 2494\n",
            "h: 2021, w: 2021\n",
            "h: 2048, w: 2500\n",
            "h: 2544, w: 3056\n",
            "h: 2544, w: 3056\n",
            "h: 2048, w: 2500\n",
            "h: 2048, w: 2500\n",
            "h: 2544, w: 3056\n",
            "h: 2991, w: 2992\n",
            "h: 2048, w: 2500\n",
            "h: 2991, w: 2992\n",
            "h: 2048, w: 2500\n",
            "h: 2500, w: 2048\n",
            "h: 2544, w: 3056\n",
            "h: 2048, w: 2500\n",
            "h: 2048, w: 2500\n",
            "h: 2048, w: 2500\n",
            "h: 2544, w: 3056\n",
            "h: 2048, w: 2500\n",
            "h: 2048, w: 2500\n",
            "h: 2544, w: 3004\n",
            "h: 2048, w: 2500\n",
            "h: 2048, w: 2500\n",
            "h: 2048, w: 2500\n",
            "h: 2048, w: 2500\n",
            "h: 2048, w: 2500\n",
            "h: 2048, w: 2500\n",
            "h: 2048, w: 2500\n",
            "h: 2048, w: 2500\n",
            "h: 2544, w: 3056\n",
            "h: 2048, w: 2500\n",
            "h: 2048, w: 2500\n",
            "h: 2048, w: 2500\n",
            "h: 2048, w: 2500\n",
            "h: 2048, w: 2500\n",
            "h: 2048, w: 2500\n",
            "h: 2048, w: 2500\n",
            "h: 2048, w: 2500\n",
            "h: 2048, w: 2500\n",
            "h: 2048, w: 2500\n",
            "h: 2048, w: 2500\n",
            "h: 2544, w: 3048\n",
            "h: 2048, w: 2500\n",
            "h: 2048, w: 2500\n",
            "h: 2544, w: 3056\n",
            "h: 2048, w: 2500\n",
            "h: 2048, w: 2500\n",
            "h: 2048, w: 2500\n",
            "h: 2048, w: 2500\n",
            "h: 2048, w: 2500\n",
            "h: 2048, w: 2500\n",
            "h: 2048, w: 2500\n",
            "h: 2048, w: 2500\n",
            "h: 2048, w: 2500\n",
            "h: 2048, w: 2500\n",
            "h: 2021, w: 2021\n",
            "h: 2991, w: 2992\n",
            "h: 2048, w: 2500\n",
            "h: 2048, w: 2500\n",
            "h: 2544, w: 3056\n",
            "h: 2048, w: 2500\n",
            "h: 2048, w: 2500\n",
            "h: 2048, w: 2500\n",
            "h: 2048, w: 2500\n",
            "h: 2048, w: 2500\n",
            "h: 2544, w: 3056\n",
            "h: 2048, w: 2500\n",
            "h: 2048, w: 2500\n",
            "h: 2048, w: 2500\n",
            "h: 2048, w: 2500\n",
            "h: 2048, w: 2500\n",
            "h: 2048, w: 2500\n",
            "h: 2048, w: 2500\n",
            "h: 2544, w: 3056\n",
            "h: 2544, w: 3056\n",
            "h: 2544, w: 3056\n",
            "h: 2048, w: 2500\n",
            "h: 2048, w: 2500\n",
            "h: 2544, w: 3056\n",
            "h: 2048, w: 2500\n",
            "h: 2544, w: 3056\n",
            "h: 2048, w: 2500\n",
            "h: 2048, w: 2500\n",
            "h: 2048, w: 2500\n",
            "h: 2048, w: 2500\n",
            "h: 2048, w: 2500\n",
            "h: 2048, w: 2500\n",
            "h: 2048, w: 2500\n",
            "h: 2048, w: 2500\n",
            "h: 2048, w: 2500\n",
            "h: 2048, w: 2500\n",
            "h: 2544, w: 3056\n",
            "h: 2048, w: 2500\n",
            "h: 2544, w: 3056\n",
            "h: 2048, w: 2500\n",
            "h: 2048, w: 2500\n",
            "h: 2048, w: 2500\n",
            "h: 2544, w: 3056\n",
            "h: 2048, w: 2500\n",
            "h: 2048, w: 2500\n",
            "h: 2048, w: 2500\n",
            "h: 2048, w: 2500\n",
            "h: 2048, w: 2500\n",
            "h: 2544, w: 3056\n",
            "h: 2048, w: 2500\n",
            "h: 2048, w: 2500\n",
            "h: 2048, w: 2500\n",
            "h: 2048, w: 2500\n",
            "h: 2048, w: 2500\n",
            "h: 2048, w: 2500\n",
            "裁切並保存完成！\n"
          ]
        }
      ]
    },
    {
      "cell_type": "code",
      "source": [
        "###4ㄍ Fold\n",
        "###Fold\n",
        "###Fold\n",
        "###Fold\n",
        "###Fold\n",
        "# 定義原始圖像和遮罩的資料夾路徑\n",
        "image_folder = '/content/drive/MyDrive/ETT_v3/Fold5/val'\n",
        "mask_folder = '/content/drive/MyDrive/ETT_v3/Fold5/valannot'\n",
        "\n",
        "# 定義新的資料夾路徑\n",
        "output_image_folder = '/content/drive/MyDrive/ETT_v3/Fold5/val_cropped'\n",
        "output_mask_folder = '/content/drive/MyDrive/ETT_v3/Fold5/valannot_cropped'\n",
        "\n",
        "# 創建新的資料夾\n",
        "os.makedirs(output_image_folder, exist_ok=True)\n",
        "os.makedirs(output_mask_folder, exist_ok=True)\n",
        "\n",
        "# 獲取圖像和遮罩文件列表\n",
        "image_files = sorted([f for f in os.listdir(image_folder) if f.endswith('.jpg')])  # 只取擴展名為.jpg的文件\n",
        "mask_files = sorted([f for f in os.listdir(mask_folder) if f.endswith('.png')])  # 只取擴展名為.jpg的文件\n",
        "\n",
        "# 確保文件名匹配\n",
        "assert len(image_files) == len(mask_files), \"圖像和遮罩文件數量不匹配\"\n",
        "\n",
        "# 裁切並保存圖像和遮罩\n",
        "for image_file, mask_file in zip(image_files, mask_files):\n",
        "    # 讀取圖像和遮罩\n",
        "    image_path = os.path.join(image_folder, image_file)\n",
        "    mask_path = os.path.join(mask_folder, mask_file)\n",
        "    image = cv2.imread(image_path, cv2.IMREAD_GRAYSCALE)\n",
        "    mask = cv2.imread(mask_path, cv2.IMREAD_GRAYSCALE)\n",
        "\n",
        "    # 裁切圖像和遮罩\n",
        "    cropped_image, cropped_mask = crop_and_resize(image, mask)\n",
        "\n",
        "    # 保存裁切後的圖像和遮罩\n",
        "    output_image_path = os.path.join(output_image_folder, image_file)\n",
        "    output_mask_path = os.path.join(output_mask_folder, mask_file)\n",
        "    cv2.imwrite(output_image_path, cropped_image)\n",
        "    cv2.imwrite(output_mask_path, cropped_mask)\n",
        "\n",
        "print(\"裁切並保存完成！\")\n"
      ],
      "metadata": {
        "colab": {
          "base_uri": "https://localhost:8080/"
        },
        "id": "Bj96YzYEmhkj",
        "outputId": "61c2da6f-b892-40f0-ef7f-6ae354278002"
      },
      "execution_count": 118,
      "outputs": [
        {
          "output_type": "stream",
          "name": "stdout",
          "text": [
            "h: 3028, w: 2517\n",
            "h: 3320, w: 2814\n",
            "h: 3028, w: 2517\n",
            "h: 3028, w: 2345\n",
            "h: 3028, w: 2517\n",
            "h: 3028, w: 2517\n",
            "h: 3028, w: 2517\n",
            "h: 3028, w: 2517\n",
            "h: 3028, w: 2266\n",
            "h: 2517, w: 3028\n",
            "h: 3028, w: 2517\n",
            "h: 3028, w: 2517\n",
            "h: 3028, w: 2517\n",
            "h: 3028, w: 2489\n",
            "h: 3028, w: 2517\n",
            "h: 3028, w: 2517\n",
            "h: 2517, w: 3028\n",
            "h: 2517, w: 2669\n",
            "h: 3028, w: 2517\n",
            "h: 3028, w: 2366\n",
            "h: 3028, w: 2517\n",
            "h: 2841, w: 2517\n",
            "h: 3028, w: 2309\n",
            "h: 3028, w: 2517\n",
            "h: 3028, w: 2258\n",
            "h: 3028, w: 2517\n",
            "h: 3028, w: 2517\n",
            "h: 3028, w: 2460\n",
            "h: 2741, w: 2489\n",
            "h: 2870, w: 2517\n",
            "h: 3028, w: 2517\n",
            "h: 2971, w: 2517\n",
            "h: 3028, w: 2517\n",
            "h: 3028, w: 2410\n",
            "h: 3028, w: 2517\n",
            "h: 3028, w: 2517\n",
            "h: 3028, w: 2438\n",
            "h: 3028, w: 2517\n",
            "h: 2517, w: 2712\n",
            "h: 3028, w: 2489\n",
            "h: 3028, w: 2417\n",
            "h: 3028, w: 2410\n",
            "h: 3028, w: 2517\n",
            "h: 3028, w: 2517\n",
            "h: 2640, w: 2517\n",
            "h: 2820, w: 2517\n",
            "h: 3028, w: 2330\n",
            "h: 3028, w: 2251\n",
            "裁切並保存完成！\n"
          ]
        }
      ]
    },
    {
      "cell_type": "code",
      "source": [
        "###4ㄍ Fold\n",
        "###Fold\n",
        "###Fold\n",
        "###Fold\n",
        "###Fold\n",
        "# 定義原始圖像和遮罩的資料夾路徑\n",
        "image_folder = '/content/drive/MyDrive/ETT_v3/Fold5/test'\n",
        "mask_folder = '/content/drive/MyDrive/ETT_v3/Fold5/testannot'\n",
        "\n",
        "# 定義新的資料夾路徑\n",
        "output_image_folder = '/content/drive/MyDrive/ETT_v3/Fold5/test_cropped'\n",
        "output_mask_folder = '/content/drive/MyDrive/ETT_v3/Fold5/testannot_cropped'\n",
        "\n",
        "# 創建新的資料夾\n",
        "os.makedirs(output_image_folder, exist_ok=True)\n",
        "os.makedirs(output_mask_folder, exist_ok=True)\n",
        "\n",
        "# 獲取圖像和遮罩文件列表\n",
        "image_files = sorted([f for f in os.listdir(image_folder) if f.endswith('.jpg')])  # 只取擴展名為.jpg的文件\n",
        "mask_files = sorted([f for f in os.listdir(mask_folder) if f.endswith('.png')])  # 只取擴展名為.jpg的文件\n",
        "\n",
        "# 確保文件名匹配\n",
        "assert len(image_files) == len(mask_files), \"圖像和遮罩文件數量不匹配\"\n",
        "\n",
        "# 裁切並保存圖像和遮罩\n",
        "for image_file, mask_file in zip(image_files, mask_files):\n",
        "    # 讀取圖像和遮罩\n",
        "    image_path = os.path.join(image_folder, image_file)\n",
        "    mask_path = os.path.join(mask_folder, mask_file)\n",
        "    image = cv2.imread(image_path, cv2.IMREAD_GRAYSCALE)\n",
        "    mask = cv2.imread(mask_path, cv2.IMREAD_GRAYSCALE)\n",
        "\n",
        "    # 裁切圖像和遮罩\n",
        "    cropped_image, cropped_mask = crop_and_resize(image, mask)\n",
        "\n",
        "    # 保存裁切後的圖像和遮罩\n",
        "    output_image_path = os.path.join(output_image_folder, image_file)\n",
        "    output_mask_path = os.path.join(output_mask_folder, mask_file)\n",
        "    cv2.imwrite(output_image_path, cropped_image)\n",
        "    cv2.imwrite(output_mask_path, cropped_mask)\n",
        "\n",
        "print(\"裁切並保存完成！\")\n"
      ],
      "metadata": {
        "colab": {
          "base_uri": "https://localhost:8080/"
        },
        "id": "V00vC9MLmifq",
        "outputId": "d6f791a9-172a-4f9c-a8ff-7d28ec237a81"
      },
      "execution_count": 119,
      "outputs": [
        {
          "output_type": "stream",
          "name": "stdout",
          "text": [
            "h: 3028, w: 2517\n",
            "h: 3028, w: 2431\n",
            "h: 3028, w: 2517\n",
            "h: 2863, w: 2410\n",
            "h: 3028, w: 2517\n",
            "h: 3028, w: 2517\n",
            "h: 3028, w: 2517\n",
            "h: 3028, w: 2517\n",
            "h: 2964, w: 2517\n",
            "h: 3028, w: 2517\n",
            "h: 2237, w: 2640\n",
            "h: 3021, w: 2381\n",
            "h: 3028, w: 2244\n",
            "h: 2913, w: 2294\n",
            "h: 3028, w: 2474\n",
            "h: 2834, w: 2517\n",
            "h: 2920, w: 2517\n",
            "h: 3028, w: 2517\n",
            "h: 2784, w: 2417\n",
            "h: 3028, w: 2517\n",
            "h: 3028, w: 2482\n",
            "h: 3102, w: 2807\n",
            "h: 3028, w: 2309\n",
            "h: 3028, w: 2496\n",
            "h: 3028, w: 2517\n",
            "h: 3028, w: 2517\n",
            "h: 2805, w: 2517\n",
            "h: 3028, w: 2517\n",
            "h: 2892, w: 2517\n",
            "h: 3028, w: 2517\n",
            "h: 3028, w: 2374\n",
            "h: 3028, w: 2323\n",
            "h: 3028, w: 2388\n",
            "h: 3028, w: 2388\n",
            "h: 3028, w: 2402\n",
            "h: 3028, w: 2517\n",
            "h: 3028, w: 2517\n",
            "h: 2517, w: 2388\n",
            "h: 3028, w: 2517\n",
            "h: 2805, w: 2517\n",
            "h: 3028, w: 2517\n",
            "h: 2942, w: 2517\n",
            "h: 3028, w: 2517\n",
            "h: 3028, w: 2517\n",
            "h: 3028, w: 2517\n",
            "h: 3028, w: 2467\n",
            "h: 3028, w: 2517\n",
            "h: 3028, w: 2517\n",
            "裁切並保存完成！\n"
          ]
        }
      ]
    },
    {
      "cell_type": "code",
      "source": [
        "###1ㄍ Fold\n",
        "###Fold\n",
        "###Fold\n",
        "###Fold\n",
        "###Fold\n",
        "import os\n",
        "import cv2\n",
        "\n",
        "# 設置訓練圖像文件夾路徑\n",
        "train_folder = '/content/drive/MyDrive/ETT_v3/Fold5/train_cropped'\n",
        "\n",
        "# 初始化存儲訓練圖像的列表\n",
        "train_images = []\n",
        "\n",
        "# 遍歷文件夾中的圖像文件\n",
        "for filename in os.listdir(train_folder):\n",
        "    # 讀取圖像\n",
        "    image_path = os.path.join(train_folder, filename)\n",
        "    image = cv2.imread(image_path, cv2.IMREAD_GRAYSCALE)\n",
        "    # 將圖像添加到訓練圖像列表中\n",
        "    train_images.append(image)"
      ],
      "metadata": {
        "id": "N_ggeaFtyx4T"
      },
      "execution_count": 120,
      "outputs": []
    },
    {
      "cell_type": "code",
      "source": [
        "###1ㄍ Fold\n",
        "###Fold\n",
        "###Fold\n",
        "###Fold\n",
        "###Fold\n",
        "# 設置訓練圖像文件夾路徑\n",
        "train_mask_folder = '/content/drive/MyDrive/ETT_v3/Fold5/trainannot_cropped'\n",
        "\n",
        "# 初始化存儲訓練圖像的列表\n",
        "train_masks = []\n",
        "\n",
        "# 遍歷文件夾中的圖像文件\n",
        "for filename in os.listdir(train_mask_folder):\n",
        "    # 讀取圖像\n",
        "    image_path = os.path.join(train_mask_folder, filename)\n",
        "    image = cv2.imread(image_path, cv2.IMREAD_GRAYSCALE)\n",
        "    # 將圖像添加到訓練圖像列表中\n",
        "    train_masks.append(image)"
      ],
      "metadata": {
        "id": "-GHNveksA1y9"
      },
      "execution_count": 121,
      "outputs": []
    },
    {
      "cell_type": "code",
      "source": [
        "###1ㄍ Fold\n",
        "###Fold\n",
        "###Fold\n",
        "###Fold\n",
        "###Fold\n",
        "import os\n",
        "import cv2\n",
        "\n",
        "# 設置測試圖像文件夾路徑\n",
        "test_folder = '/content/drive/MyDrive/ETT_v3/Fold1/test_cropped'\n",
        "\n",
        "# 初始化存儲測試圖像的列表\n",
        "test_images = []\n",
        "\n",
        "# 遍歷文件夾中的圖像文件\n",
        "for filename in os.listdir(test_folder):\n",
        "    # 讀取圖像\n",
        "    image_path = os.path.join(test_folder, filename)\n",
        "    image = cv2.imread(image_path, cv2.IMREAD_GRAYSCALE)\n",
        "    # 將圖像添加到測試圖像列表中\n",
        "    test_images.append(image)\n"
      ],
      "metadata": {
        "id": "8E1K-9kgyNBx"
      },
      "execution_count": 168,
      "outputs": []
    },
    {
      "cell_type": "code",
      "source": [
        "###1ㄍ Fold\n",
        "###Fold\n",
        "###Fold\n",
        "###Fold\n",
        "###Fold\n",
        "# 設置測試遮罩文件夾路徑\n",
        "test_mask_folder = '/content/drive/MyDrive/ETT_v3/Fold1/testannot_cropped'\n",
        "\n",
        "# 初始化存儲測試遮罩的列表\n",
        "test_masks = []\n",
        "\n",
        "# 遍歷文件夾中的遮罩文件\n",
        "for filename in os.listdir(test_mask_folder):\n",
        "    # 讀取遮罩\n",
        "    mask_path = os.path.join(test_mask_folder, filename)\n",
        "    mask = cv2.imread(mask_path, cv2.IMREAD_GRAYSCALE)\n",
        "    # 將遮罩添加到測試遮罩列表中\n",
        "    test_masks.append(mask)\n"
      ],
      "metadata": {
        "id": "hb9o-1OuyRTe"
      },
      "execution_count": 169,
      "outputs": []
    },
    {
      "cell_type": "code",
      "source": [
        "import cv2\n",
        "\n",
        "# 定義CLAHE函數\n",
        "def apply_clahe(image):\n",
        "    # 創建CLAHE對象\n",
        "    clahe = cv2.createCLAHE(clipLimit=2.0, tileGridSize=(8, 8))\n",
        "    # 應用CLAHE\n",
        "    clahe_image = clahe.apply(image)\n",
        "    return clahe_image\n",
        "\n",
        "# 對每個圖像應用CLAHE\n",
        "for i in range(len(train_images)):\n",
        "    train_images[i] = apply_clahe(train_images[i])"
      ],
      "metadata": {
        "id": "VF911V-9ypRe"
      },
      "execution_count": 124,
      "outputs": []
    },
    {
      "cell_type": "code",
      "source": [
        "###1ㄍ Fold\n",
        "###Fold\n",
        "###Fold\n",
        "###Fold\n",
        "###Fold\n",
        "import os\n",
        "import cv2\n",
        "\n",
        "# 設置驗證圖像文件夾路徑\n",
        "val_folder = '/content/drive/MyDrive/ETT_v3/Fold5/val_cropped'\n",
        "\n",
        "# 初始化存儲驗證圖像的列表\n",
        "val_images = []\n",
        "\n",
        "# 遍歷文件夾中的圖像文件\n",
        "for filename in os.listdir(val_folder):\n",
        "    # 讀取圖像\n",
        "    image_path = os.path.join(val_folder, filename)\n",
        "    image = cv2.imread(image_path, cv2.IMREAD_GRAYSCALE)\n",
        "    # 將圖像添加到驗證圖像列表中\n",
        "    val_images.append(image)"
      ],
      "metadata": {
        "id": "sQsS-fmZGmRm"
      },
      "execution_count": 125,
      "outputs": []
    },
    {
      "cell_type": "code",
      "source": [
        "###1ㄍ Fold\n",
        "###Fold\n",
        "###Fold\n",
        "###Fold\n",
        "###Fold\n",
        "import os\n",
        "import cv2\n",
        "\n",
        "# 設置驗證遮罩圖像文件夾路徑\n",
        "val_mask_folder = '/content/drive/MyDrive/ETT_v3/Fold5/valannot_cropped'\n",
        "\n",
        "# 初始化存儲驗證遮罩圖像的列表\n",
        "val_masks = []\n",
        "\n",
        "# 遍歷文件夾中的圖像文件\n",
        "for filename in os.listdir(val_mask_folder):\n",
        "    # 讀取圖像\n",
        "    image_path = os.path.join(val_mask_folder, filename)\n",
        "    image = cv2.imread(image_path, cv2.IMREAD_GRAYSCALE)\n",
        "    # 將圖像添加到驗證遮罩圖像列表中\n",
        "    val_masks.append(image)"
      ],
      "metadata": {
        "id": "NVMyZ16HlxLx"
      },
      "execution_count": 126,
      "outputs": []
    },
    {
      "cell_type": "code",
      "source": [
        "# 對每個圖像應用CLAHE\n",
        "for i in range(len(val_images)):\n",
        "    val_images[i] = apply_clahe(val_images[i])"
      ],
      "metadata": {
        "id": "j7wLdnkosYwd"
      },
      "execution_count": 127,
      "outputs": []
    },
    {
      "cell_type": "code",
      "source": [
        "###2ㄍ Fold\n",
        "###Fold\n",
        "###Fold\n",
        "###Fold\n",
        "###Fold\n",
        "import cv2\n",
        "import numpy as np\n",
        "from google.colab.patches import cv2_imshow\n",
        "\n",
        "\n",
        "# 定義圖像翻轉函數\n",
        "def apply_flip(image, mask, flip_code):\n",
        "    # 對圖像進行翻轉\n",
        "    flipped_image = cv2.flip(image, flip_code)\n",
        "    # 對標籤（遮罩）進行相同的翻轉\n",
        "    flipped_mask = cv2.flip(mask, flip_code)\n",
        "    return flipped_image, flipped_mask\n",
        "\n",
        "# 選擇一張圖像和對應的標籤\n",
        "image_path = '/content/drive/MyDrive/ETT_v3/Fold5/train_gen/train_cropped/A00010.jpg'\n",
        "mask_path = '/content/drive/MyDrive/ETT_v3/Fold5/trainannot_gen/trainannot_cropped/A00010.png'\n",
        "\n",
        "image = cv2.imread(image_path, cv2.IMREAD_GRAYSCALE)\n",
        "mask = cv2.imread(mask_path, cv2.IMREAD_GRAYSCALE)\n",
        "\n",
        "# 定義翻轉代碼（1表示水平翻轉，0表示垂直翻轉，-1表示水平和垂直翻轉）\n",
        "flip_code = 1\n",
        "\n",
        "# 應用翻轉\n",
        "flipped_image, flipped_mask = apply_flip(image, mask, flip_code)"
      ],
      "metadata": {
        "id": "7shu4ghl9cbk"
      },
      "execution_count": 128,
      "outputs": []
    },
    {
      "cell_type": "code",
      "source": [
        "# 創建空列表來存儲增強後的圖像和標籤\n",
        "augmented_train_images = []\n",
        "augmented_train_masks = []\n",
        "\n",
        "# 遍歷原始圖像和標籤\n",
        "for image, mask in zip(train_images, train_masks):\n",
        "    # 將原始圖像和標籤添加到列表中\n",
        "    augmented_train_images.append(image)\n",
        "    augmented_train_masks.append(mask)\n",
        "\n",
        "    # 應用水平翻轉\n",
        "    flipped_image = cv2.flip(image, 1)\n",
        "    flipped_mask = cv2.flip(mask, 1)\n",
        "\n",
        "    # 將翻轉後的圖像和標籤添加到列表中\n",
        "    augmented_train_images.append(flipped_image)\n",
        "    augmented_train_masks.append(flipped_mask)\n",
        "\n",
        "# 將列表轉換為NumPy數組\n",
        "augmented_train_images = np.array(augmented_train_images)\n",
        "augmented_train_masks = np.array(augmented_train_masks)"
      ],
      "metadata": {
        "id": "6W_fPqH3El17"
      },
      "execution_count": 129,
      "outputs": []
    },
    {
      "cell_type": "code",
      "source": [
        "def img_normalize(img, mask):\n",
        "    img = img / 255\n",
        "\n",
        "    binary_mask = mask.copy()\n",
        "    binary_mask[mask > 128] = 1\n",
        "    binary_mask[mask <= 128] = 0\n",
        "\n",
        "    img = img.astype(np.float32)\n",
        "    binary_mask = binary_mask.astype(np.float32)\n",
        "\n",
        "    return img, binary_mask"
      ],
      "metadata": {
        "id": "-bXtH328iiRT"
      },
      "execution_count": 130,
      "outputs": []
    },
    {
      "cell_type": "code",
      "source": [
        "# 創建空列表來存儲增強後的圖像和標籤\n",
        "augmented_val_images = []\n",
        "augmented_val_masks = []\n",
        "\n",
        "# 遍歷原始圖像和標籤\n",
        "for val_image, val_mask in zip(val_images, val_masks):\n",
        "    # 將原始圖像和標籤添加到列表中\n",
        "    augmented_val_images.append(val_image)\n",
        "    augmented_val_masks.append(val_mask)\n",
        "\n",
        "# 將列表轉換為NumPy數組\n",
        "augmented_val_images = np.array(augmented_val_images)\n",
        "augmented_val_masks = np.array(augmented_val_masks)"
      ],
      "metadata": {
        "id": "WsP26cz70mDr"
      },
      "execution_count": 131,
      "outputs": []
    },
    {
      "cell_type": "code",
      "source": [
        "# 對 augmented_train_images 和 augmented_train_masks 執行 img_normalize 函數\n",
        "normalized_augmented_train_images, normalized_augmented_train_masks = img_normalize(augmented_train_images, augmented_train_masks)\n",
        "\n",
        "normalized_val_images, normalized_val_masks = img_normalize(augmented_val_images, augmented_val_masks)"
      ],
      "metadata": {
        "id": "W_7_XrthjtJd"
      },
      "execution_count": 132,
      "outputs": []
    },
    {
      "cell_type": "code",
      "source": [
        "normalized_test_images, normalized_test_masks = img_normalize(np.array(test_images), np.array(test_masks))"
      ],
      "metadata": {
        "id": "EA_AmtG-vJVR"
      },
      "execution_count": 170,
      "outputs": []
    },
    {
      "cell_type": "code",
      "source": [
        "# 對數據使用 np.expand_dims(data, axis=-1) 來擴展維度\n",
        "normalized_augmented_train_images = np.expand_dims(normalized_augmented_train_images, axis=-1)\n",
        "normalized_augmented_train_masks = np.expand_dims(normalized_augmented_train_masks, axis=-1)\n",
        "normalized_val_images = np.expand_dims(normalized_val_images, axis=-1)\n",
        "normalized_val_masks = np.expand_dims(normalized_val_masks, axis=-1)"
      ],
      "metadata": {
        "id": "jZg0TV8QU0O0"
      },
      "execution_count": 134,
      "outputs": []
    },
    {
      "cell_type": "code",
      "source": [
        "normalized_test_images = np.expand_dims(normalized_test_images, axis=-1)\n",
        "normalized_test_masks = np.expand_dims(normalized_test_masks, axis=-1)"
      ],
      "metadata": {
        "id": "zD5kjbXBwtWC"
      },
      "execution_count": 171,
      "outputs": []
    },
    {
      "cell_type": "code",
      "source": [
        "import tensorflow as tf\n",
        "\n",
        "\n",
        "def dice_coefficient(y_true, y_pred):\n",
        "    smooth = 1.0\n",
        "    y_true_flat = tf.keras.backend.flatten(y_true)\n",
        "    y_pred_flat = tf.keras.backend.flatten(y_pred)\n",
        "    intersection = tf.keras.backend.sum(y_true_flat * y_pred_flat)\n",
        "    return (2.0 * intersection + smooth) / (tf.keras.backend.sum(y_true_flat) + tf.keras.backend.sum(y_pred_flat) + smooth)\n",
        "\n",
        "def dice_loss(y_true, y_pred):\n",
        "    return 1 - dice_coefficient(y_true, y_pred)\n",
        "\n",
        "def combined_loss(y_true, y_pred):\n",
        "    binary_loss = tf.keras.losses.binary_crossentropy(y_true, y_pred)\n",
        "    dice = dice_loss(y_true, y_pred)\n",
        "    return binary_loss + dice"
      ],
      "metadata": {
        "id": "mQw5VgSwsmF_"
      },
      "execution_count": 136,
      "outputs": []
    },
    {
      "cell_type": "code",
      "source": [
        "from tensorflow.keras.models import Model\n",
        "from tensorflow.keras.layers import Input, Conv2D, MaxPooling2D, UpSampling2D, Concatenate, Conv2DTranspose\n",
        "from tensorflow.keras.optimizers import Adam\n",
        "from tensorflow.keras.losses import binary_crossentropy\n",
        "from tensorflow.keras.metrics import MeanIoU\n",
        "import tensorflow.keras.backend as K\n",
        "\n",
        "# 輸入形狀\n",
        "input_shape = (256, 256, 1)  # 輸入影像大小，單通道\n",
        "\n",
        "def simplified_fcn(input_shape, output_shape):\n",
        "    inputs = Input(shape=input_shape)\n",
        "\n",
        "    # Encoder\n",
        "    conv1 = Conv2D(32, (3, 3), activation='relu', padding='same')(inputs)\n",
        "    conv2 = Conv2D(64, (3, 3), activation='relu', padding='same')(conv1)\n",
        "\n",
        "    # Decoder\n",
        "    upsample1 = UpSampling2D((1, 1))(conv2)  # 將上採樣倍率修改為 (1, 1)\n",
        "    conv3 = Conv2D(64, (3, 3), activation='relu', padding='same')(upsample1)\n",
        "    output = Conv2D(1, (3, 3), activation='sigmoid', padding='same')(conv3)\n",
        "\n",
        "    model = Model(inputs=inputs, outputs=output)\n",
        "    return model\n",
        "\n",
        "# 訓練數據的目標形狀\n",
        "output_shape = (256, 256, 1)\n",
        "\n",
        "# 使用簡化後的FCN模型\n",
        "model_single_channel = simplified_fcn(input_shape, output_shape)\n",
        "\n",
        "\n",
        "\n",
        "# 編譯模型\n",
        "model_single_channel.compile(optimizer=Adam(),\n",
        "                              loss=combined_loss,\n",
        "                              metrics=['accuracy', dice_coefficient])"
      ],
      "metadata": {
        "id": "Vr3dsP97nGsd"
      },
      "execution_count": 137,
      "outputs": []
    },
    {
      "cell_type": "code",
      "source": [
        "# 設置訓練參數\n",
        "epochs = 3\n",
        "batch_size = 16\n",
        "\n",
        "# 訓練模型，並指定批次大小\n",
        "history = model_single_channel.fit(normalized_augmented_train_images, normalized_augmented_train_masks,\n",
        "                                    epochs=epochs,\n",
        "                                    batch_size=batch_size,\n",
        "                                    validation_data=(normalized_val_images, normalized_val_masks))"
      ],
      "metadata": {
        "id": "HYIsMW-isz1A",
        "colab": {
          "base_uri": "https://localhost:8080/"
        },
        "outputId": "4dc7f843-8e41-40c7-f3c1-6c0b05aa1205"
      },
      "execution_count": 138,
      "outputs": [
        {
          "output_type": "stream",
          "name": "stdout",
          "text": [
            "Epoch 1/3\n",
            "36/36 [==============================] - 516s 14s/step - loss: 1.1608 - accuracy: 0.9880 - dice_coefficient: 0.0088 - val_loss: 1.0537 - val_accuracy: 0.9909 - val_dice_coefficient: 0.0099\n",
            "Epoch 2/3\n",
            "36/36 [==============================] - 486s 14s/step - loss: 1.0526 - accuracy: 0.9882 - dice_coefficient: 0.0149 - val_loss: 1.0383 - val_accuracy: 0.9909 - val_dice_coefficient: 0.0159\n",
            "Epoch 3/3\n",
            "36/36 [==============================] - 483s 13s/step - loss: 1.0468 - accuracy: 0.9882 - dice_coefficient: 0.0182 - val_loss: 1.0358 - val_accuracy: 0.9909 - val_dice_coefficient: 0.0192\n"
          ]
        }
      ]
    },
    {
      "cell_type": "code",
      "source": [
        "# 查看模型摘要信息\n",
        "model_single_channel.summary()\n"
      ],
      "metadata": {
        "colab": {
          "base_uri": "https://localhost:8080/"
        },
        "id": "YACX0A-u2vNb",
        "outputId": "01599973-b941-468d-e860-847af75ca4d7"
      },
      "execution_count": 139,
      "outputs": [
        {
          "output_type": "stream",
          "name": "stdout",
          "text": [
            "Model: \"model_3\"\n",
            "_________________________________________________________________\n",
            " Layer (type)                Output Shape              Param #   \n",
            "=================================================================\n",
            " input_4 (InputLayer)        [(None, 256, 256, 1)]     0         \n",
            "                                                                 \n",
            " conv2d_12 (Conv2D)          (None, 256, 256, 32)      320       \n",
            "                                                                 \n",
            " conv2d_13 (Conv2D)          (None, 256, 256, 64)      18496     \n",
            "                                                                 \n",
            " up_sampling2d_3 (UpSamplin  (None, 256, 256, 64)      0         \n",
            " g2D)                                                            \n",
            "                                                                 \n",
            " conv2d_14 (Conv2D)          (None, 256, 256, 64)      36928     \n",
            "                                                                 \n",
            " conv2d_15 (Conv2D)          (None, 256, 256, 1)       577       \n",
            "                                                                 \n",
            "=================================================================\n",
            "Total params: 56321 (220.00 KB)\n",
            "Trainable params: 56321 (220.00 KB)\n",
            "Non-trainable params: 0 (0.00 Byte)\n",
            "_________________________________________________________________\n"
          ]
        }
      ]
    },
    {
      "cell_type": "code",
      "source": [
        "###1ㄍ Fold\n",
        "###Fold\n",
        "###Fold\n",
        "###Fold\n",
        "###Fold\n",
        "# 儲存模型為原生 Keras 格式\n",
        "model_single_channel.save(\"/content/drive/MyDrive/ETT_v3/Fold5/fcn_8_single_channel_model.keras\")\n"
      ],
      "metadata": {
        "id": "ESQw2rHtr784"
      },
      "execution_count": 140,
      "outputs": []
    },
    {
      "cell_type": "code",
      "source": [
        "import numpy as np\n",
        "\n",
        "# 將預測遮罩進行二值化處理\n",
        "binary_predicted_masks = (predicted_masks > 0.5).astype(np.uint8)\n",
        "\n",
        "# 將二值化的預測遮罩乘以 255\n",
        "binary_predicted_masks *= 255\n",
        "\n",
        "# 將二值化預測遮罩的形狀從 (47, 256, 256, 1) 改為 (47, 256, 256)\n",
        "binary_predicted_masks = np.squeeze(binary_predicted_masks, axis=-1)\n",
        "\n",
        "# 查看二值化預測遮罩的形狀和值\n",
        "#print(\"Binary Predicted Mask Shape:\", binary_predicted_masks[0].shape)\n",
        "#print(\"Binary Predicted Mask Values:\\n\", binary_predicted_masks[0])"
      ],
      "metadata": {
        "id": "KdHqOpkrx4-A"
      },
      "execution_count": 141,
      "outputs": []
    },
    {
      "cell_type": "code",
      "source": [
        "import matplotlib.pyplot as plt\n",
        "\n",
        "# 顯示原始圖像\n",
        "plt.figure(figsize=(15, 5))\n",
        "plt.subplot(1, 3, 1)\n",
        "plt.imshow(normalized_test_images[0], cmap='gray')\n",
        "plt.title('Original Image')\n",
        "\n",
        "# 顯示真實遮罩\n",
        "plt.subplot(1, 3, 2)\n",
        "plt.imshow(normalized_test_masks[0], cmap='gray')\n",
        "plt.title('True Mask')\n",
        "\n",
        "# 顯示預測遮罩\n",
        "plt.subplot(1, 3, 3)\n",
        "plt.imshow(binary_predicted_masks[0], cmap='gray')\n",
        "plt.title('Predicted Mask')\n",
        "\n",
        "plt.show()\n"
      ],
      "metadata": {
        "colab": {
          "base_uri": "https://localhost:8080/",
          "height": 300
        },
        "id": "CGkANrL9e051",
        "outputId": "ba5bbfe0-9fb1-4599-dcc4-45bd6761d708"
      },
      "execution_count": 142,
      "outputs": [
        {
          "output_type": "display_data",
          "data": {
            "text/plain": [
              "<Figure size 1500x500 with 3 Axes>"
            ],
            "image/png": "[encoded data removed]"
          },
          "metadata": {}
        }
      ]
    },
    {
      "cell_type": "code",
      "source": [
        "import tensorflow as tf\n",
        "\n",
        "# IOU指標\n",
        "def iou(y_true, y_pred):\n",
        "    intersection = tf.reduce_sum(y_true * y_pred)\n",
        "    union = tf.reduce_sum(y_true) + tf.reduce_sum(y_pred) - intersection\n",
        "    return intersection / union\n",
        "\n",
        "# 平均誤差公分、誤差在0.5公分內準確率、誤差在1.0公分內準確率指標\n",
        "def error_metrics(y_true, y_pred, pixels_per_cm=72):\n",
        "    absolute_difference = tf.abs(y_true - y_pred)\n",
        "    pixel_threshold_05 = pixels_per_cm / 2\n",
        "    pixel_threshold_1 = pixels_per_cm\n",
        "\n",
        "    # 平均誤差公分\n",
        "    mean_error = tf.reduce_mean(absolute_difference) / pixels_per_cm\n",
        "\n",
        "    # 誤差在0.5公分內準確率\n",
        "    accuracy_within_05 = tf.reduce_mean(tf.cast(absolute_difference <= pixel_threshold_05, tf.float32)) * 100\n",
        "\n",
        "    # 誤差在1.0公分內準確率\n",
        "    accuracy_within_1 = tf.reduce_mean(tf.cast(absolute_difference <= pixel_threshold_1, tf.float32)) * 100\n",
        "\n",
        "    return mean_error, accuracy_within_05, accuracy_within_1"
      ],
      "metadata": {
        "id": "wR45JrzKr4Ed"
      },
      "execution_count": 143,
      "outputs": []
    },
    {
      "cell_type": "code",
      "source": [
        "import numpy as np\n",
        "\n",
        "# 使用模型進行預測\n",
        "predicted_masks = model_single_channel.predict(normalized_test_images)\n",
        "\n",
        "# 將測試遮罩轉換為與模型輸出相同的數據類型\n",
        "#test_masks_array = test_masks_array.astype(np.float32)\n",
        "\n",
        "# 評估預測結果\n",
        "evaluation = model_single_channel.evaluate(normalized_test_images, normalized_test_masks)\n",
        "\n",
        "# 印出評估結果\n",
        "print(\"Test Loss:\", evaluation[0])\n",
        "print(\"Test Accuracy:\", evaluation[1])\n",
        "print(\"Test Dice Coefficient:\", evaluation[2])\n",
        "\n",
        "# 使用自定義指標進行評估\n",
        "mean_error, accuracy_within_05, accuracy_within_1 = error_metrics(normalized_test_masks, predicted_masks)\n",
        "print(\"Mean Error (cm):\", mean_error)\n",
        "print(\"Accuracy within 0.5cm (%):\", accuracy_within_05)\n",
        "print(\"Accuracy within 1cm (%):\", accuracy_within_1)"
      ],
      "metadata": {
        "colab": {
          "base_uri": "https://localhost:8080/"
        },
        "id": "Ou67ojS8ixLx",
        "outputId": "dee1cdef-f521-44fa-b6d1-eb3b04a0736d"
      },
      "execution_count": 144,
      "outputs": [
        {
          "output_type": "stream",
          "name": "stdout",
          "text": [
            "2/2 [==============================] - 11s 3s/step\n",
            "2/2 [==============================] - 9s 3s/step - loss: 1.0409 - accuracy: 0.9902 - dice_coefficient: 0.0190\n",
            "Test Loss: 1.040921688079834\n",
            "Test Accuracy: 0.9902359843254089\n",
            "Test Dice Coefficient: 0.019029926508665085\n",
            "Mean Error (cm): tf.Tensor(0.00047139544, shape=(), dtype=float32)\n",
            "Accuracy within 0.5cm (%): tf.Tensor(100.0, shape=(), dtype=float32)\n",
            "Accuracy within 1cm (%): tf.Tensor(100.0, shape=(), dtype=float32)\n"
          ]
        }
      ]
    },
    {
      "cell_type": "code",
      "source": [
        "# 使用模型進行預測\n",
        "predicted_masks = model_single_channel.predict(normalized_test_images)"
      ],
      "metadata": {
        "colab": {
          "base_uri": "https://localhost:8080/"
        },
        "id": "GEVYu3y0drHv",
        "outputId": "9f0ccc71-7c99-4058-bbd9-0192f046b75a"
      },
      "execution_count": 172,
      "outputs": [
        {
          "output_type": "stream",
          "name": "stdout",
          "text": [
            "2/2 [==============================] - 11s 4s/step\n"
          ]
        }
      ]
    },
    {
      "cell_type": "code",
      "source": [
        "test_iou = iou(normalized_test_masks, predicted_masks)\n",
        "print(\"IOU:\", test_iou)"
      ],
      "metadata": {
        "colab": {
          "base_uri": "https://localhost:8080/"
        },
        "id": "uS60JdP7c1iM",
        "outputId": "153a7d5e-daab-49a0-ca8d-362e73ec9e48"
      },
      "execution_count": 173,
      "outputs": [
        {
          "output_type": "stream",
          "name": "stdout",
          "text": [
            "IOU: tf.Tensor(0.008454002, shape=(), dtype=float32)\n"
          ]
        }
      ]
    },
    {
      "cell_type": "markdown",
      "source": [
        "模型載入"
      ],
      "metadata": {
        "id": "3-woD2hp-N9U"
      }
    },
    {
      "cell_type": "code",
      "source": [
        "from tensorflow.keras.models import load_model\n",
        "\n",
        "# 載入模型\n",
        "model_single_channel = load_model(\"/content/drive/MyDrive/ETT_v3/Fold1/fcn_8_single_channel_model.keras\", custom_objects={'combined_loss': combined_loss, 'dice_coefficient': dice_coefficient})\n"
      ],
      "metadata": {
        "id": "AS3Pkhr4ss05"
      },
      "execution_count": 167,
      "outputs": []
    }
  ],
  "metadata": {
    "colab": {
      "provenance": []
    },
    "kernelspec": {
      "display_name": "Python 3",
      "name": "python3"
    },
    "language_info": {
      "name": "python"
    }
  },
  "nbformat": 4,
  "nbformat_minor": 0
}